{
 "cells": [
  {
   "cell_type": "code",
   "execution_count": 11,
   "outputs": [],
   "source": [
    "from pycaret.classification import *\n",
    "from utils import config"
   ],
   "metadata": {
    "collapsed": false,
    "pycharm": {
     "name": "#%%\n"
    }
   }
  },
  {
   "cell_type": "code",
   "execution_count": 12,
   "outputs": [
    {
     "data": {
      "text/plain": "IntProgress(value=0, description='Processing: ', max=3)",
      "application/vnd.jupyter.widget-view+json": {
       "version_major": 2,
       "version_minor": 0,
       "model_id": "b2bba906fed3466fa79f29f65e4db9bf"
      }
     },
     "metadata": {},
     "output_type": "display_data"
    },
    {
     "data": {
      "text/plain": "                                                                    \n                                                                    \nInitiated  . . . . . . . . . . . . . . . . . .              11:45:08\nStatus     . . . . . . . . . . . . . . . . . .  Loading Dependencies",
      "text/html": "<div>\n<style scoped>\n    .dataframe tbody tr th:only-of-type {\n        vertical-align: middle;\n    }\n\n    .dataframe tbody tr th {\n        vertical-align: top;\n    }\n\n    .dataframe thead th {\n        text-align: right;\n    }\n</style>\n<table border=\"1\" class=\"dataframe\">\n  <thead>\n    <tr style=\"text-align: right;\">\n      <th></th>\n      <th></th>\n      <th></th>\n    </tr>\n    <tr>\n      <th></th>\n      <th></th>\n      <th></th>\n    </tr>\n  </thead>\n  <tbody>\n    <tr>\n      <th>Initiated</th>\n      <td>. . . . . . . . . . . . . . . . . .</td>\n      <td>11:45:08</td>\n    </tr>\n    <tr>\n      <th>Status</th>\n      <td>. . . . . . . . . . . . . . . . . .</td>\n      <td>Loading Dependencies</td>\n    </tr>\n  </tbody>\n</table>\n</div>"
     },
     "metadata": {},
     "output_type": "display_data"
    },
    {
     "data": {
      "text/plain": "Text(value=\"Following data types have been inferred automatically, if they are correct press enter to continue…",
      "application/vnd.jupyter.widget-view+json": {
       "version_major": 2,
       "version_minor": 0,
       "model_id": "42c87a2d032d47e7977bd7cf75905f88"
      }
     },
     "metadata": {},
     "output_type": "display_data"
    },
    {
     "data": {
      "text/plain": "       Data Type\n0        Numeric\n1        Numeric\n2        Numeric\n3        Numeric\n4        Numeric\n...          ...\n764      Numeric\n765      Numeric\n766      Numeric\n767      Numeric\ntarget     Label\n\n[769 rows x 1 columns]",
      "text/html": "<div>\n<style scoped>\n    .dataframe tbody tr th:only-of-type {\n        vertical-align: middle;\n    }\n\n    .dataframe tbody tr th {\n        vertical-align: top;\n    }\n\n    .dataframe thead th {\n        text-align: right;\n    }\n</style>\n<table border=\"1\" class=\"dataframe\">\n  <thead>\n    <tr style=\"text-align: right;\">\n      <th></th>\n      <th>Data Type</th>\n    </tr>\n  </thead>\n  <tbody>\n    <tr>\n      <th>0</th>\n      <td>Numeric</td>\n    </tr>\n    <tr>\n      <th>1</th>\n      <td>Numeric</td>\n    </tr>\n    <tr>\n      <th>2</th>\n      <td>Numeric</td>\n    </tr>\n    <tr>\n      <th>3</th>\n      <td>Numeric</td>\n    </tr>\n    <tr>\n      <th>4</th>\n      <td>Numeric</td>\n    </tr>\n    <tr>\n      <th>...</th>\n      <td>...</td>\n    </tr>\n    <tr>\n      <th>764</th>\n      <td>Numeric</td>\n    </tr>\n    <tr>\n      <th>765</th>\n      <td>Numeric</td>\n    </tr>\n    <tr>\n      <th>766</th>\n      <td>Numeric</td>\n    </tr>\n    <tr>\n      <th>767</th>\n      <td>Numeric</td>\n    </tr>\n    <tr>\n      <th>target</th>\n      <td>Label</td>\n    </tr>\n  </tbody>\n</table>\n<p>769 rows × 1 columns</p>\n</div>"
     },
     "metadata": {},
     "output_type": "display_data"
    },
    {
     "name": "stderr",
     "output_type": "stream",
     "text": [
      "\n",
      "KeyboardInterrupt\n",
      "\n"
     ]
    }
   ],
   "source": [
    "bert_dataset_train, bert_dataset_val = config.load_bert_train_val(filter_adequate=True)\n",
    "setup = setup(bert_dataset_train, target=\"target\", test_data=bert_dataset_val, preprocess=False, session_id=225530, html=True, profile=False)\n",
    "best = compare_models()\n",
    "evaluate_model(best)"
   ],
   "metadata": {
    "collapsed": false,
    "pycharm": {
     "name": "#%%\n"
    }
   }
  },
  {
   "cell_type": "markdown",
   "source": [],
   "metadata": {
    "collapsed": false,
    "pycharm": {
     "name": "#%% md\n"
    }
   }
  }
 ],
 "metadata": {
  "kernelspec": {
   "display_name": "Python 3",
   "language": "python",
   "name": "python3"
  },
  "language_info": {
   "codemirror_mode": {
    "name": "ipython",
    "version": 2
   },
   "file_extension": ".py",
   "mimetype": "text/x-python",
   "name": "python",
   "nbconvert_exporter": "python",
   "pygments_lexer": "ipython2",
   "version": "2.7.6"
  }
 },
 "nbformat": 4,
 "nbformat_minor": 0
}