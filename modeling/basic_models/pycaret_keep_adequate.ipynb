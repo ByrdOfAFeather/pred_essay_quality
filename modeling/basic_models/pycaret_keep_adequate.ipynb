{
 "cells": [
  {
   "cell_type": "code",
   "execution_count": 1,
   "metadata": {
    "collapsed": true,
    "pycharm": {
     "name": "#%%\n"
    }
   },
   "outputs": [],
   "source": [
    "import pandas as pd\n",
    "from pycaret.classification import *\n",
    "from utils import config"
   ]
  },
  {
   "cell_type": "code",
   "execution_count": 2,
   "outputs": [
    {
     "data": {
      "text/plain": "<pandas.io.formats.style.Styler at 0x7fcc841ae370>",
      "text/html": "<style type=\"text/css\">\n#T_aa980 th {\n  text-align: left;\n}\n#T_aa980_row0_col0 {\n  text-align: left;\n}\n#T_aa980_row0_col1, #T_aa980_row0_col2, #T_aa980_row0_col3, #T_aa980_row0_col4, #T_aa980_row0_col5, #T_aa980_row0_col6, #T_aa980_row0_col7 {\n  text-align: left;\n  background-color: yellow;\n}\n#T_aa980_row0_col8 {\n  text-align: left;\n  background-color: yellow;\n  background-color: lightgrey;\n}\n</style>\n<table id=\"T_aa980\">\n  <thead>\n    <tr>\n      <th class=\"blank level0\" >&nbsp;</th>\n      <th id=\"T_aa980_level0_col0\" class=\"col_heading level0 col0\" >Model</th>\n      <th id=\"T_aa980_level0_col1\" class=\"col_heading level0 col1\" >Accuracy</th>\n      <th id=\"T_aa980_level0_col2\" class=\"col_heading level0 col2\" >AUC</th>\n      <th id=\"T_aa980_level0_col3\" class=\"col_heading level0 col3\" >Recall</th>\n      <th id=\"T_aa980_level0_col4\" class=\"col_heading level0 col4\" >Prec.</th>\n      <th id=\"T_aa980_level0_col5\" class=\"col_heading level0 col5\" >F1</th>\n      <th id=\"T_aa980_level0_col6\" class=\"col_heading level0 col6\" >Kappa</th>\n      <th id=\"T_aa980_level0_col7\" class=\"col_heading level0 col7\" >MCC</th>\n      <th id=\"T_aa980_level0_col8\" class=\"col_heading level0 col8\" >TT (Sec)</th>\n    </tr>\n  </thead>\n  <tbody>\n    <tr>\n      <th id=\"T_aa980_level0_row0\" class=\"row_heading level0 row0\" >ridge</th>\n      <td id=\"T_aa980_row0_col0\" class=\"data row0 col0\" >Ridge Classifier</td>\n      <td id=\"T_aa980_row0_col1\" class=\"data row0 col1\" >0.6577</td>\n      <td id=\"T_aa980_row0_col2\" class=\"data row0 col2\" >0.0000</td>\n      <td id=\"T_aa980_row0_col3\" class=\"data row0 col3\" >0.5094</td>\n      <td id=\"T_aa980_row0_col4\" class=\"data row0 col4\" >0.6495</td>\n      <td id=\"T_aa980_row0_col5\" class=\"data row0 col5\" >0.6138</td>\n      <td id=\"T_aa980_row0_col6\" class=\"data row0 col6\" >0.3229</td>\n      <td id=\"T_aa980_row0_col7\" class=\"data row0 col7\" >0.3535</td>\n      <td id=\"T_aa980_row0_col8\" class=\"data row0 col8\" >0.4050</td>\n    </tr>\n  </tbody>\n</table>\n"
     },
     "metadata": {},
     "output_type": "display_data"
    },
    {
     "data": {
      "text/plain": "interactive(children=(ToggleButtons(description='Plot Type:', icons=('',), options=(('Hyperparameters', 'param…",
      "application/vnd.jupyter.widget-view+json": {
       "version_major": 2,
       "version_minor": 0,
       "model_id": "4068bd77e7d144ac887dab007244597e"
      }
     },
     "metadata": {},
     "output_type": "display_data"
    }
   ],
   "source": [
    "bert_dataset_train, bert_dataset_val = config.load_bert_train_val(filter_adequate=False)\n",
    "setup = setup(bert_dataset_train, target=\"target\", test_data=bert_dataset_val, preprocess=False, session_id=225530, html=True, profile=False, silent=True)\n",
    "best = compare_models(include=[\"ridge\"])\n",
    "evaluate_model(best)"
   ],
   "metadata": {
    "collapsed": false,
    "pycharm": {
     "name": "#%%\n"
    }
   }
  },
  {
   "cell_type": "code",
   "execution_count": 4,
   "outputs": [
    {
     "name": "stdout",
     "output_type": "stream",
     "text": [
      "Transformation Pipeline and Model Successfully Saved\n"
     ]
    },
    {
     "data": {
      "text/plain": "(Pipeline(memory=None,\n          steps=[('dtypes',\n                  DataTypes_Auto_infer(categorical_features=[],\n                                       display_types=False, features_todrop=[],\n                                       id_columns=[],\n                                       ml_usecase='classification',\n                                       numerical_features=[], target='target',\n                                       time_features=[])),\n                 ['trained_model',\n                  RidgeClassifier(alpha=1.0, class_weight=None, copy_X=True,\n                                  fit_intercept=True, max_iter=None,\n                                  normalize=False, random_state=225530,\n                                  solver='auto', tol=0.001)]],\n          verbose=False),\n 'test.pkl')"
     },
     "execution_count": 4,
     "metadata": {},
     "output_type": "execute_result"
    }
   ],
   "source": [
    "save_model(best, \"test\")"
   ],
   "metadata": {
    "collapsed": false,
    "pycharm": {
     "name": "#%%\n"
    }
   }
  }
 ],
 "metadata": {
  "kernelspec": {
   "display_name": "Python 3",
   "language": "python",
   "name": "python3"
  },
  "language_info": {
   "codemirror_mode": {
    "name": "ipython",
    "version": 2
   },
   "file_extension": ".py",
   "mimetype": "text/x-python",
   "name": "python",
   "nbconvert_exporter": "python",
   "pygments_lexer": "ipython2",
   "version": "2.7.6"
  }
 },
 "nbformat": 4,
 "nbformat_minor": 0
}